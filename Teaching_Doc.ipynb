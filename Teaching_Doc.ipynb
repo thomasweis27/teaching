{
  "nbformat": 4,
  "nbformat_minor": 0,
  "metadata": {
    "colab": {
      "provenance": [],
      "toc_visible": true,
      "authorship_tag": "ABX9TyMvhr3MIKGYYn8gsmrXF54F",
      "include_colab_link": true
    },
    "kernelspec": {
      "name": "python3",
      "display_name": "Python 3"
    },
    "language_info": {
      "name": "python"
    }
  },
  "cells": [
    {
      "cell_type": "markdown",
      "metadata": {
        "id": "view-in-github",
        "colab_type": "text"
      },
      "source": [
        "<a href=\"https://colab.research.google.com/github/thomasweis27/teaching/blob/main/Teaching_Doc.ipynb\" target=\"_parent\"><img src=\"https://colab.research.google.com/assets/colab-badge.svg\" alt=\"Open In Colab\"/></a>"
      ]
    },
    {
      "cell_type": "markdown",
      "source": [
        "#Lesson One: Printing, Inputs, If & Else"
      ],
      "metadata": {
        "id": "nWOFP3hW4RjJ"
      }
    },
    {
      "cell_type": "markdown",
      "source": [
        "Printing and inputs are the most important things. These will allow the user to be able to display and ask for information.\n"
      ],
      "metadata": {
        "id": "Rdf3bkquyzhX"
      }
    },
    {
      "cell_type": "code",
      "execution_count": null,
      "metadata": {
        "colab": {
          "base_uri": "https://localhost:8080/"
        },
        "id": "8fE3BAcSyndz",
        "outputId": "0139d284-d844-4dad-e413-fc5829c1de94"
      },
      "outputs": [
        {
          "output_type": "stream",
          "name": "stdout",
          "text": [
            "Hello, this is Thomas.\n",
            "Good afternoon!\n",
            "Please enter a word: thyme\n",
            "thyme\n"
          ]
        }
      ],
      "source": [
        "print(\"Hello, this is Thomas.\")\n",
        "print(\"Good afternoon!\")\n",
        "\n",
        "#a veriable is how a computer remebers something for later\n",
        "veriable =  input(\"Please enter a word: \")\n",
        "print(veriable)\n"
      ]
    },
    {
      "cell_type": "markdown",
      "source": [
        "The next thing that is important is being about for a computer to make a desision. This is accomplished with things called \"if\" and \"else\" statements.\n",
        "\n",
        "\n",
        "if waits for a condition, ```if user == Thomas:``` then do something. That something is whatever is below, indented."
      ],
      "metadata": {
        "id": "lagbQCwF2tB9"
      }
    },
    {
      "cell_type": "code",
      "source": [
        "user = input(\"What is your name? \")\n",
        "if user == \"Thomas\":\n",
        "  print(\"You are the instructor.\")\n",
        "else:\n",
        "  print(\"You are a student.\")"
      ],
      "metadata": {
        "id": "-e5eQyx52dMt"
      },
      "execution_count": null,
      "outputs": []
    },
    {
      "cell_type": "markdown",
      "source": [
        "There's also something different called ```elif```. This is good for more than two options. If and else. This is ```if```, ```elif```, and ```else``` in the following order with as many elif as needed.\n",
        "\n",
        "\n",
        "Enter in a number under 12. You'll see the difference between to \"if\"s and one \"if\" and one \"elif\"."
      ],
      "metadata": {
        "id": "XAaWiPLH4mKW"
      }
    },
    {
      "cell_type": "code",
      "source": [
        "age = int(input(\"How old are you? \"))\n",
        "if age < 12:\n",
        "  print(\"You are a child.\")\n",
        "elif age < 18:\n",
        "  print(\"You are a teen.\")\n",
        "else:\n",
        "  print(\"You are an adult.\")\n",
        "\n",
        "print(\"_ _ _ _ _\")\n",
        "if age < 12:\n",
        "  print(\"You are a child.\")\n",
        "if age < 18:\n",
        "  print(\"You are a teen.\")\n",
        "else:\n",
        "  print(\"You are an adult.\")"
      ],
      "metadata": {
        "colab": {
          "base_uri": "https://localhost:8080/"
        },
        "id": "jnVQLZS55cnz",
        "outputId": "3fe79d4f-80b1-4ffe-beec-51733a45ef20"
      },
      "execution_count": null,
      "outputs": [
        {
          "output_type": "stream",
          "name": "stdout",
          "text": [
            "How old are you? 11\n",
            "You are a child.\n",
            "_ _ _ _ _\n",
            "You are a child.\n",
            "You are a teen.\n"
          ]
        }
      ]
    },
    {
      "cell_type": "markdown",
      "source": [
        "<h1>Project for Lesson One</h1>\n",
        "\n",
        "Have you ever played a \"Chose Your Own Adventure\" game? Using ```if```, ```elif```, and ```else``` statements we will create one of these.\n",
        "\n",
        "We can also put ```if```s inside of one another. We will make these \"nesting if statements\" in this project too."
      ],
      "metadata": {
        "id": "bANzVaM8651z"
      }
    },
    {
      "cell_type": "markdown",
      "source": [
        "# Lesson Two: Loops"
      ],
      "metadata": {
        "id": "otijKnTO-EZZ"
      }
    },
    {
      "cell_type": "markdown",
      "source": [
        "# Lesson Three: Lists & Indexing Intro"
      ],
      "metadata": {
        "id": "tFhPWsB0-TUC"
      }
    },
    {
      "cell_type": "markdown",
      "source": [
        "# Lesson Four: Indexing"
      ],
      "metadata": {
        "id": "G8RCWoN3-gzW"
      }
    },
    {
      "cell_type": "markdown",
      "source": [
        "# Lesson Five: Dictionaries"
      ],
      "metadata": {
        "id": "tR5EbDtq-sX4"
      }
    },
    {
      "cell_type": "markdown",
      "source": [
        "# Lesson Six: Classes"
      ],
      "metadata": {
        "id": "OY2IwWI2_Dou"
      }
    }
  ]
}